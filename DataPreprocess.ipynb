{
 "cells": [
  {
   "cell_type": "code",
   "execution_count": 1,
   "id": "24105a54-e094-4835-b571-0e06cdabede5",
   "metadata": {},
   "outputs": [],
   "source": [
    "import matplotlib.pyplot as plt\n",
    "import scipy"
   ]
  },
  {
   "cell_type": "code",
   "execution_count": 26,
   "id": "23ed406c-fe09-45eb-84b2-4310beb2ed15",
   "metadata": {},
   "outputs": [
    {
     "name": "stdout",
     "output_type": "stream",
     "text": [
      "dict_keys(['__header__', '__version__', '__globals__', 'depData', 'subjData'])\n"
     ]
    }
   ],
   "source": [
    "# 파일 불러오기\n",
    "# data = mat73.loadmat(\"Rutledge_GBE_risk_data_TOD.mat\")\n",
    "data = scipy.io.loadmat(\"Rutledge_GBE_risk_data_TOD.mat\")\n",
    "\n",
    "# 주요 구조 확인\n",
    "print(data.keys())\n"
   ]
  },
  {
   "cell_type": "markdown",
   "id": "53be3473-061c-49f2-a060-94fbcf132aa1",
   "metadata": {},
   "source": [
    "# Rutledge(2014)"
   ]
  },
  {
   "cell_type": "markdown",
   "id": "9014b73e-f058-4d62-a2fd-2e2bbfff222d",
   "metadata": {},
   "source": [
    "## Depression Preprocessing\n",
    "DepData = subjData + dep 정보만 추출(not trial)"
   ]
  },
  {
   "cell_type": "code",
   "execution_count": 47,
   "id": "1567a683-3e58-46be-9635-1c33fae77735",
   "metadata": {},
   "outputs": [
    {
     "name": "stdout",
     "output_type": "stream",
     "text": [
      "총 참가자 수: 1858\n",
      "첫 번째 참가자의 필드 목록: ('id', 'age', 'isFemale', 'location', 'lifeSatisfaction', 'education', 'nativeLanguage', 'deviceType', 'nPlays', 'timesPlayed', 'dayNumber', 'timeOfDay', 'designVersion', 'dataHdr', 'data', 'depStatus', 'depEpisodes', 'depYears', 'depMeds', 'depFamily', 'bdiDayNumber', 'bdiRaw', 'bdiTotal')\n"
     ]
    }
   ],
   "source": [
    "depData = data['depData']\n",
    "\n",
    "# 1차원으로 펴기\n",
    "depData = depData[0]\n",
    "\n",
    "# 참가자 수 확인\n",
    "print(\"총 참가자 수:\", len(depData))  # 47067\n",
    "print(\"첫 번째 참가자의 필드 목록:\", depData[0].dtype.names)"
   ]
  },
  {
   "cell_type": "code",
   "execution_count": 48,
   "id": "f2f18158-0aea-406c-ae08-b3b1d120093b",
   "metadata": {},
   "outputs": [
    {
     "name": "stdout",
     "output_type": "stream",
     "text": [
      "id: 89\n",
      "age group: 5\n",
      "trial matrix shape: (30, 15)\n"
     ]
    }
   ],
   "source": [
    "subject = depData[0]  # 첫 참가자 구조체\n",
    "\n",
    "print(\"id:\", subject['id'][0][0])\n",
    "print(\"age group:\", subject['age'][0][0])\n",
    "print(\"trial matrix shape:\", subject['data'][0][0].shape)  # (30, 15)"
   ]
  },
  {
   "cell_type": "code",
   "execution_count": 49,
   "id": "f0b8f94b-6d16-4f95-b836-972531f95a67",
   "metadata": {},
   "outputs": [],
   "source": [
    "import pandas as pd\n",
    "import numpy as np\n",
    "\n",
    "# depData 변환\n",
    "dep_rows = []\n",
    "dep_rows.append(depData[0].dtype.names)\n",
    "\n",
    "for dep in depData:\n",
    "    temp_list = []\n",
    "    for idx in range(len(depData[0].dtype.names)):\n",
    "        temp_list.append(dep[idx][0][0])      \n",
    "    dep_rows.append(temp_list)"
   ]
  },
  {
   "cell_type": "code",
   "execution_count": 50,
   "id": "7b283a04-31ee-40d0-9555-77c26c2900cd",
   "metadata": {},
   "outputs": [],
   "source": [
    "# 첫 번째 항목을 헤더로 지정하고 나머지를 데이터로\n",
    "header = dep_rows[0]\n",
    "rows = dep_rows[1:]\n",
    "\n",
    "# DataFrame 생성\n",
    "df = pd.DataFrame(rows, columns=header)\n",
    "df = df.drop(columns=['data', 'dataHdr'], errors='ignore')\n",
    "\n",
    "# 결과 확인\n",
    "df.to_csv(\"participant_info.csv\", index=False)"
   ]
  },
  {
   "cell_type": "code",
   "execution_count": 51,
   "id": "6b307c63-4f7f-48e5-a4ac-fb0daaa4ea26",
   "metadata": {},
   "outputs": [
    {
     "data": {
      "text/html": [
       "<div>\n",
       "<style scoped>\n",
       "    .dataframe tbody tr th:only-of-type {\n",
       "        vertical-align: middle;\n",
       "    }\n",
       "\n",
       "    .dataframe tbody tr th {\n",
       "        vertical-align: top;\n",
       "    }\n",
       "\n",
       "    .dataframe thead th {\n",
       "        text-align: right;\n",
       "    }\n",
       "</style>\n",
       "<table border=\"1\" class=\"dataframe\">\n",
       "  <thead>\n",
       "    <tr style=\"text-align: right;\">\n",
       "      <th></th>\n",
       "      <th>id</th>\n",
       "      <th>age</th>\n",
       "      <th>isFemale</th>\n",
       "      <th>location</th>\n",
       "      <th>lifeSatisfaction</th>\n",
       "      <th>education</th>\n",
       "      <th>nativeLanguage</th>\n",
       "      <th>deviceType</th>\n",
       "      <th>nPlays</th>\n",
       "      <th>timesPlayed</th>\n",
       "      <th>...</th>\n",
       "      <th>timeOfDay</th>\n",
       "      <th>designVersion</th>\n",
       "      <th>depStatus</th>\n",
       "      <th>depEpisodes</th>\n",
       "      <th>depYears</th>\n",
       "      <th>depMeds</th>\n",
       "      <th>depFamily</th>\n",
       "      <th>bdiDayNumber</th>\n",
       "      <th>bdiRaw</th>\n",
       "      <th>bdiTotal</th>\n",
       "    </tr>\n",
       "  </thead>\n",
       "  <tbody>\n",
       "    <tr>\n",
       "      <th>0</th>\n",
       "      <td>89</td>\n",
       "      <td>5</td>\n",
       "      <td>1</td>\n",
       "      <td>400</td>\n",
       "      <td>7</td>\n",
       "      <td>1</td>\n",
       "      <td>1.0</td>\n",
       "      <td>i</td>\n",
       "      <td>2</td>\n",
       "      <td>1</td>\n",
       "      <td>...</td>\n",
       "      <td>0.991713</td>\n",
       "      <td>1</td>\n",
       "      <td>2</td>\n",
       "      <td>5</td>\n",
       "      <td>5</td>\n",
       "      <td>4</td>\n",
       "      <td>1</td>\n",
       "      <td>242</td>\n",
       "      <td>0</td>\n",
       "      <td>6</td>\n",
       "    </tr>\n",
       "    <tr>\n",
       "      <th>1</th>\n",
       "      <td>92</td>\n",
       "      <td>3</td>\n",
       "      <td>0</td>\n",
       "      <td>3</td>\n",
       "      <td>6</td>\n",
       "      <td>3</td>\n",
       "      <td>1.0</td>\n",
       "      <td>i</td>\n",
       "      <td>4</td>\n",
       "      <td>2</td>\n",
       "      <td>...</td>\n",
       "      <td>0.898831</td>\n",
       "      <td>1</td>\n",
       "      <td>2</td>\n",
       "      <td>5</td>\n",
       "      <td>5</td>\n",
       "      <td>4</td>\n",
       "      <td>2</td>\n",
       "      <td>229</td>\n",
       "      <td>0</td>\n",
       "      <td>6</td>\n",
       "    </tr>\n",
       "    <tr>\n",
       "      <th>2</th>\n",
       "      <td>106</td>\n",
       "      <td>4</td>\n",
       "      <td>1</td>\n",
       "      <td>3</td>\n",
       "      <td>7</td>\n",
       "      <td>3</td>\n",
       "      <td>1.0</td>\n",
       "      <td>i</td>\n",
       "      <td>7</td>\n",
       "      <td>1</td>\n",
       "      <td>...</td>\n",
       "      <td>0.039907</td>\n",
       "      <td>1</td>\n",
       "      <td>2</td>\n",
       "      <td>1</td>\n",
       "      <td>5</td>\n",
       "      <td>4</td>\n",
       "      <td>3</td>\n",
       "      <td>335</td>\n",
       "      <td>0</td>\n",
       "      <td>1</td>\n",
       "    </tr>\n",
       "    <tr>\n",
       "      <th>3</th>\n",
       "      <td>113</td>\n",
       "      <td>4</td>\n",
       "      <td>1</td>\n",
       "      <td>400</td>\n",
       "      <td>7</td>\n",
       "      <td>3</td>\n",
       "      <td>1.0</td>\n",
       "      <td>i</td>\n",
       "      <td>2</td>\n",
       "      <td>1</td>\n",
       "      <td>...</td>\n",
       "      <td>0.079664</td>\n",
       "      <td>1</td>\n",
       "      <td>3</td>\n",
       "      <td>5</td>\n",
       "      <td>5</td>\n",
       "      <td>3</td>\n",
       "      <td>2</td>\n",
       "      <td>268</td>\n",
       "      <td>0</td>\n",
       "      <td>2</td>\n",
       "    </tr>\n",
       "    <tr>\n",
       "      <th>4</th>\n",
       "      <td>194</td>\n",
       "      <td>6</td>\n",
       "      <td>0</td>\n",
       "      <td>900</td>\n",
       "      <td>6</td>\n",
       "      <td>3</td>\n",
       "      <td>1.0</td>\n",
       "      <td>i</td>\n",
       "      <td>2</td>\n",
       "      <td>1</td>\n",
       "      <td>...</td>\n",
       "      <td>0.324479</td>\n",
       "      <td>1</td>\n",
       "      <td>3</td>\n",
       "      <td>5</td>\n",
       "      <td>5</td>\n",
       "      <td>4</td>\n",
       "      <td>3</td>\n",
       "      <td>332</td>\n",
       "      <td>0</td>\n",
       "      <td>5</td>\n",
       "    </tr>\n",
       "    <tr>\n",
       "      <th>...</th>\n",
       "      <td>...</td>\n",
       "      <td>...</td>\n",
       "      <td>...</td>\n",
       "      <td>...</td>\n",
       "      <td>...</td>\n",
       "      <td>...</td>\n",
       "      <td>...</td>\n",
       "      <td>...</td>\n",
       "      <td>...</td>\n",
       "      <td>...</td>\n",
       "      <td>...</td>\n",
       "      <td>...</td>\n",
       "      <td>...</td>\n",
       "      <td>...</td>\n",
       "      <td>...</td>\n",
       "      <td>...</td>\n",
       "      <td>...</td>\n",
       "      <td>...</td>\n",
       "      <td>...</td>\n",
       "      <td>...</td>\n",
       "      <td>...</td>\n",
       "    </tr>\n",
       "    <tr>\n",
       "      <th>1853</th>\n",
       "      <td>44342</td>\n",
       "      <td>2</td>\n",
       "      <td>0</td>\n",
       "      <td>207</td>\n",
       "      <td>2</td>\n",
       "      <td>3</td>\n",
       "      <td>8.0</td>\n",
       "      <td>a</td>\n",
       "      <td>5</td>\n",
       "      <td>1</td>\n",
       "      <td>...</td>\n",
       "      <td>0.144606</td>\n",
       "      <td>5</td>\n",
       "      <td>3</td>\n",
       "      <td>5</td>\n",
       "      <td>5</td>\n",
       "      <td>4</td>\n",
       "      <td>3</td>\n",
       "      <td>74</td>\n",
       "      <td>1</td>\n",
       "      <td>13</td>\n",
       "    </tr>\n",
       "    <tr>\n",
       "      <th>1854</th>\n",
       "      <td>44364</td>\n",
       "      <td>2</td>\n",
       "      <td>0</td>\n",
       "      <td>107</td>\n",
       "      <td>7</td>\n",
       "      <td>1</td>\n",
       "      <td>9.0</td>\n",
       "      <td>a</td>\n",
       "      <td>1</td>\n",
       "      <td>2</td>\n",
       "      <td>...</td>\n",
       "      <td>0.947153</td>\n",
       "      <td>5</td>\n",
       "      <td>3</td>\n",
       "      <td>5</td>\n",
       "      <td>5</td>\n",
       "      <td>4</td>\n",
       "      <td>3</td>\n",
       "      <td>73</td>\n",
       "      <td>0</td>\n",
       "      <td>3</td>\n",
       "    </tr>\n",
       "    <tr>\n",
       "      <th>1855</th>\n",
       "      <td>44368</td>\n",
       "      <td>4</td>\n",
       "      <td>1</td>\n",
       "      <td>205</td>\n",
       "      <td>5</td>\n",
       "      <td>2</td>\n",
       "      <td>3.0</td>\n",
       "      <td>a</td>\n",
       "      <td>1</td>\n",
       "      <td>1</td>\n",
       "      <td>...</td>\n",
       "      <td>0.435417</td>\n",
       "      <td>5</td>\n",
       "      <td>3</td>\n",
       "      <td>5</td>\n",
       "      <td>5</td>\n",
       "      <td>4</td>\n",
       "      <td>3</td>\n",
       "      <td>72</td>\n",
       "      <td>0</td>\n",
       "      <td>14</td>\n",
       "    </tr>\n",
       "    <tr>\n",
       "      <th>1856</th>\n",
       "      <td>44375</td>\n",
       "      <td>5</td>\n",
       "      <td>1</td>\n",
       "      <td>3</td>\n",
       "      <td>8</td>\n",
       "      <td>3</td>\n",
       "      <td>1.0</td>\n",
       "      <td>a</td>\n",
       "      <td>1</td>\n",
       "      <td>1</td>\n",
       "      <td>...</td>\n",
       "      <td>0.846238</td>\n",
       "      <td>5</td>\n",
       "      <td>3</td>\n",
       "      <td>5</td>\n",
       "      <td>5</td>\n",
       "      <td>4</td>\n",
       "      <td>3</td>\n",
       "      <td>72</td>\n",
       "      <td>0</td>\n",
       "      <td>3</td>\n",
       "    </tr>\n",
       "    <tr>\n",
       "      <th>1857</th>\n",
       "      <td>44455</td>\n",
       "      <td>1</td>\n",
       "      <td>1</td>\n",
       "      <td>205</td>\n",
       "      <td>9</td>\n",
       "      <td>1</td>\n",
       "      <td>9.0</td>\n",
       "      <td>a</td>\n",
       "      <td>1</td>\n",
       "      <td>1</td>\n",
       "      <td>...</td>\n",
       "      <td>0.946609</td>\n",
       "      <td>5</td>\n",
       "      <td>2</td>\n",
       "      <td>5</td>\n",
       "      <td>5</td>\n",
       "      <td>4</td>\n",
       "      <td>3</td>\n",
       "      <td>60</td>\n",
       "      <td>0</td>\n",
       "      <td>3</td>\n",
       "    </tr>\n",
       "  </tbody>\n",
       "</table>\n",
       "<p>1858 rows × 21 columns</p>\n",
       "</div>"
      ],
      "text/plain": [
       "         id  age  isFemale  location  lifeSatisfaction  education  \\\n",
       "0        89    5         1       400                 7          1   \n",
       "1        92    3         0         3                 6          3   \n",
       "2       106    4         1         3                 7          3   \n",
       "3       113    4         1       400                 7          3   \n",
       "4       194    6         0       900                 6          3   \n",
       "...     ...  ...       ...       ...               ...        ...   \n",
       "1853  44342    2         0       207                 2          3   \n",
       "1854  44364    2         0       107                 7          1   \n",
       "1855  44368    4         1       205                 5          2   \n",
       "1856  44375    5         1         3                 8          3   \n",
       "1857  44455    1         1       205                 9          1   \n",
       "\n",
       "      nativeLanguage deviceType  nPlays  timesPlayed  ...  timeOfDay  \\\n",
       "0                1.0          i       2            1  ...   0.991713   \n",
       "1                1.0          i       4            2  ...   0.898831   \n",
       "2                1.0          i       7            1  ...   0.039907   \n",
       "3                1.0          i       2            1  ...   0.079664   \n",
       "4                1.0          i       2            1  ...   0.324479   \n",
       "...              ...        ...     ...          ...  ...        ...   \n",
       "1853             8.0          a       5            1  ...   0.144606   \n",
       "1854             9.0          a       1            2  ...   0.947153   \n",
       "1855             3.0          a       1            1  ...   0.435417   \n",
       "1856             1.0          a       1            1  ...   0.846238   \n",
       "1857             9.0          a       1            1  ...   0.946609   \n",
       "\n",
       "      designVersion  depStatus  depEpisodes  depYears  depMeds  depFamily  \\\n",
       "0                 1          2            5         5        4          1   \n",
       "1                 1          2            5         5        4          2   \n",
       "2                 1          2            1         5        4          3   \n",
       "3                 1          3            5         5        3          2   \n",
       "4                 1          3            5         5        4          3   \n",
       "...             ...        ...          ...       ...      ...        ...   \n",
       "1853              5          3            5         5        4          3   \n",
       "1854              5          3            5         5        4          3   \n",
       "1855              5          3            5         5        4          3   \n",
       "1856              5          3            5         5        4          3   \n",
       "1857              5          2            5         5        4          3   \n",
       "\n",
       "      bdiDayNumber bdiRaw  bdiTotal  \n",
       "0              242      0         6  \n",
       "1              229      0         6  \n",
       "2              335      0         1  \n",
       "3              268      0         2  \n",
       "4              332      0         5  \n",
       "...            ...    ...       ...  \n",
       "1853            74      1        13  \n",
       "1854            73      0         3  \n",
       "1855            72      0        14  \n",
       "1856            72      0         3  \n",
       "1857            60      0         3  \n",
       "\n",
       "[1858 rows x 21 columns]"
      ]
     },
     "execution_count": 51,
     "metadata": {},
     "output_type": "execute_result"
    }
   ],
   "source": [
    "df"
   ]
  },
  {
   "cell_type": "markdown",
   "id": "0019ec36-d36d-491c-a1b0-0205cc875339",
   "metadata": {},
   "source": [
    "### Data features\n",
    "Especially depression"
   ]
  },
  {
   "cell_type": "code",
   "execution_count": 52,
   "id": "3efa3a26-6976-4d6b-948a-664935410df4",
   "metadata": {},
   "outputs": [
    {
     "data": {
      "text/plain": [
       "depStatus\n",
       "3    1287\n",
       "2     316\n",
       "1     224\n",
       "4      31\n",
       "Name: count, dtype: int64"
      ]
     },
     "execution_count": 52,
     "metadata": {},
     "output_type": "execute_result"
    }
   ],
   "source": [
    "# depStatus Have you ever been diagnosed with depression?\n",
    "# 1 Yes, by a psychiatrist\n",
    "# 2 Yes, by a family doctor or another doctor but not a psychiatrist\n",
    "# 3 No, I have never been diagnosed with depression\n",
    "# 4 I’d rather not say\n",
    "\n",
    "df['depStatus'].value_counts()"
   ]
  },
  {
   "cell_type": "code",
   "execution_count": 53,
   "id": "34b0c780-145c-4370-8894-4cf2dd35e756",
   "metadata": {},
   "outputs": [
    {
     "name": "stdout",
     "output_type": "stream",
     "text": [
      "BDI_bin\n",
      "Minimal    1105\n",
      "Mild        230\n",
      "High        228\n",
      "Severe      176\n",
      "Name: count, dtype: int64\n"
     ]
    }
   ],
   "source": [
    "bins = [0, 13, 19, 28, 63]  # 직접 지정한 구간\n",
    "labels = [\"Minimal\", \"Mild\", \"High\", \"Severe\"]\n",
    "\n",
    "df['BDI_bin'] = pd.cut(df['bdiTotal'], bins=bins, labels=labels, right=True)\n",
    "\n",
    "# 구간별 개수 출력\n",
    "bin_counts = df['BDI_bin'].value_counts().sort_index()\n",
    "print(bin_counts)"
   ]
  },
  {
   "cell_type": "markdown",
   "id": "fd7622f9-82bb-4f9f-ab4e-1d36f9b05a58",
   "metadata": {},
   "source": [
    "## Trials"
   ]
  },
  {
   "cell_type": "code",
   "execution_count": 54,
   "id": "4c89338f-9918-41b0-8b74-059aedbb3dc6",
   "metadata": {},
   "outputs": [
    {
     "data": {
      "text/plain": [
       "0          89\n",
       "1          92\n",
       "2         106\n",
       "3         113\n",
       "4         194\n",
       "        ...  \n",
       "1853    44342\n",
       "1854    44364\n",
       "1855    44368\n",
       "1856    44375\n",
       "1857    44455\n",
       "Name: id, Length: 1858, dtype: uint16"
      ]
     },
     "execution_count": 54,
     "metadata": {},
     "output_type": "execute_result"
    }
   ],
   "source": [
    "id_row = df['id']\n",
    "id_row"
   ]
  },
  {
   "cell_type": "code",
   "execution_count": 55,
   "id": "69ffd2c5-490d-47e6-a71c-16cccba54a35",
   "metadata": {},
   "outputs": [
    {
     "name": "stdout",
     "output_type": "stream",
     "text": [
      "[89, 1.0, 1.0, 0.0, 40.0, -14.0, nan, 1.0, 40.0, 9.784, 70.0, 50.0, 7.467, nan, 4.382, 6.239]\n",
      "16\n",
      "55740\n"
     ]
    }
   ],
   "source": [
    "parData_row = []\n",
    "\n",
    "for idx in range(0,len(id_row)): \n",
    "    par_id = depData[idx]['id'][0][0]\n",
    "    trial_matrix = depData[idx]['data'][0][0]  # (30, 15) 행렬이 여기에 있음\n",
    "\n",
    "    for i in range(0, len(trial_matrix)):\n",
    "        temp = [int(par_id)]\n",
    "        mat = trial_matrix[i]\n",
    "        \n",
    "        for n in range(len(trial_matrix[i])):\n",
    "            temp.append(float(mat[n]))\n",
    "        parData_row.append(temp)\n",
    "\n",
    "print(parData_row[0])\n",
    "print(len(parData_row[0]))\n",
    "print(len(parData_row))"
   ]
  },
  {
   "cell_type": "code",
   "execution_count": 56,
   "id": "8ca565b6-be75-40e7-938c-2426389519d4",
   "metadata": {},
   "outputs": [
    {
     "data": {
      "text/plain": [
       "['id',\n",
       " 'nTrial',\n",
       " 'riskySide',\n",
       " 'certainValue',\n",
       " 'winValue',\n",
       " 'loseValue',\n",
       " 'empty',\n",
       " 'choseRisky',\n",
       " 'outcome',\n",
       " 'choiceRT',\n",
       " 'happiness',\n",
       " 'startValue',\n",
       " 'happinessRT',\n",
       " 'empty',\n",
       " 'spinDuration',\n",
       " 'spinAngle']"
      ]
     },
     "execution_count": 56,
     "metadata": {},
     "output_type": "execute_result"
    }
   ],
   "source": [
    "subjData = data['subjData']\n",
    "\n",
    "# 1차원으로 펴기\n",
    "subjData = subjData[0]\n",
    "\n",
    "headers = subjData[0]['dataHdr'][0]\n",
    "header_row = ['id']\n",
    "for elm in headers:\n",
    "    header_row.append(str(elm[0]))\n",
    "header_row"
   ]
  },
  {
   "cell_type": "code",
   "execution_count": 57,
   "id": "c11833f9-8d32-4231-895d-40609aa4f4c2",
   "metadata": {},
   "outputs": [],
   "source": [
    "df = pd.DataFrame(parData_row, columns=header_row)\n",
    "df = df.drop(columns=['empty', 'empty'], errors='ignore')\n",
    "\n",
    "# 결과 확인\n",
    "df.to_csv(\"participant_trials.csv\", index=False)"
   ]
  },
  {
   "cell_type": "markdown",
   "id": "cb526e77-e47e-4af2-8b54-bf5fcf46dcfc",
   "metadata": {},
   "source": [
    "## SubjData"
   ]
  },
  {
   "cell_type": "code",
   "execution_count": 58,
   "id": "d92d8e75-138f-459d-bfa5-3d554471d41d",
   "metadata": {},
   "outputs": [
    {
     "name": "stdout",
     "output_type": "stream",
     "text": [
      "총 참가자 수: 47067\n",
      "첫 번째 참가자의 필드 목록: ('id', 'age', 'isFemale', 'location', 'lifeSatisfaction', 'education', 'nativeLanguage', 'deviceType', 'nPlays', 'timesPlayed', 'dayNumber', 'timeOfDay', 'designVersion', 'dataHdr', 'data')\n"
     ]
    }
   ],
   "source": [
    "subjData = data['subjData']\n",
    "\n",
    "# 1차원으로 펴기\n",
    "subjData = subjData[0]\n",
    "\n",
    "# 참가자 수 확인\n",
    "print(\"총 참가자 수:\", len(subjData))  # 47067\n",
    "print(\"첫 번째 참가자의 필드 목록:\", subjData[0].dtype.names)"
   ]
  },
  {
   "cell_type": "code",
   "execution_count": 59,
   "id": "8993ac60-8e57-4308-8a7b-467136014c04",
   "metadata": {},
   "outputs": [
    {
     "name": "stdout",
     "output_type": "stream",
     "text": [
      "id: 1\n",
      "age group: 3\n",
      "trial matrix shape: (30, 15)\n"
     ]
    }
   ],
   "source": [
    "subject = subjData[0]  # 첫 참가자 구조체\n",
    "\n",
    "print(\"id:\", subject['id'][0][0])\n",
    "print(\"age group:\", subject['age'][0][0])\n",
    "print(\"trial matrix shape:\", subject['data'][0][0].shape)  # (30, 15)"
   ]
  },
  {
   "cell_type": "code",
   "execution_count": 60,
   "id": "cff67393-fc49-4ea7-95bf-04d94eaaf7fd",
   "metadata": {},
   "outputs": [
    {
     "name": "stdout",
     "output_type": "stream",
     "text": [
      "열 이름 목록:\n",
      " 1: ['nTrial']\n",
      " 2: ['riskySide']\n",
      " 3: ['certainValue']\n",
      " 4: ['winValue']\n",
      " 5: ['loseValue']\n",
      " 6: ['empty']\n",
      " 7: ['choseRisky']\n",
      " 8: ['outcome']\n",
      " 9: ['choiceRT']\n",
      "10: ['happiness']\n",
      "11: ['startValue']\n",
      "12: ['happinessRT']\n",
      "13: ['empty']\n",
      "14: ['spinDuration']\n",
      "15: ['spinAngle']\n"
     ]
    }
   ],
   "source": [
    "headers = subjData[0]['dataHdr'][0]\n",
    "print(\"열 이름 목록:\")\n",
    "for idx, h in enumerate(headers):\n",
    "    print(f\"{idx+1:2d}: {h}\")"
   ]
  },
  {
   "cell_type": "code",
   "execution_count": 61,
   "id": "26d1b333-7e5e-4910-afe6-8ee1fc63b471",
   "metadata": {},
   "outputs": [
    {
     "name": "stdout",
     "output_type": "stream",
     "text": [
      "(30, 15)\n",
      "[[ 1.0000e+00  1.0000e+00 -5.5000e+01  0.0000e+00 -2.2000e+02         nan\n",
      "   1.0000e+00 -2.2000e+02  1.8239e+01  7.0000e+01  5.0000e+01  6.9570e+00\n",
      "          nan  9.3050e+00  4.4000e-02]\n",
      " [ 2.0000e+00  1.0000e+00  4.5000e+01  1.2200e+02  0.0000e+00         nan\n",
      "   0.0000e+00  4.5000e+01  5.0230e+00         nan         nan         nan\n",
      "          nan         nan         nan]\n",
      " [ 3.0000e+00  1.0000e+00  5.5000e+01  1.3200e+02  0.0000e+00         nan\n",
      "   1.0000e+00  1.3200e+02  4.3170e+00  8.2000e+01  5.0000e+01  4.6460e+00\n",
      "          nan  9.6750e+00  3.9770e+00]\n",
      " [ 4.0000e+00  1.0000e+00 -3.5000e+01  0.0000e+00 -7.0000e+01         nan\n",
      "   0.0000e+00 -3.5000e+01  6.3570e+00         nan         nan         nan\n",
      "          nan         nan         nan]\n",
      " [ 5.0000e+00  1.0000e+00 -5.5000e+01  0.0000e+00 -1.2000e+02         nan\n",
      "   0.0000e+00 -5.5000e+01  9.3970e+00         nan         nan         nan\n",
      "          nan         nan         nan]]\n"
     ]
    }
   ],
   "source": [
    "trial_matrix = subjData[0]['data'][0][0]  # (30, 15) 행렬이 여기에 있음\n",
    "print(trial_matrix.shape)\n",
    "print(trial_matrix[:5])  # 상위 5개 trial 확인"
   ]
  },
  {
   "cell_type": "code",
   "execution_count": 62,
   "id": "d381d998-0900-4adb-8eb6-1ea0f84942ed",
   "metadata": {},
   "outputs": [
    {
     "name": "stdout",
     "output_type": "stream",
     "text": [
      "[-55.  45.  55. -35. -55.   0.  35. -55.  55.  45. -55.  55.  45. -30.\n",
      "   0. -55. -45.  30.   0.   0.   0.  35.   0.  30.  35.   0. -45.   0.\n",
      " -45. -35.]\n",
      "[1. 0. 1. 0. 0. 1. 1. 1. 0. 0. 0. 1. 0. 1. 0. 0. 1. 0. 0. 0. 1. 1. 0. 0.\n",
      " 1. 1. 0. 1. 1. 1.]\n",
      "[ 70.  nan  82.  nan  nan  78.  nan  nan  71.  nan  50.  nan  nan  23.\n",
      "  nan  nan  50.  nan  nan  50.  nan  27.  nan  nan  50.  nan  nan 100.\n",
      "  nan 100.]\n"
     ]
    }
   ],
   "source": [
    "trial_matrix = subjData[0]['data'][0][0]  # shape (30, 15)\n",
    "\n",
    "# 예: 3번째 열 (safeValue)만 보기\n",
    "safe_vals = trial_matrix[:, 2]  # column index는 0부터 시작\n",
    "print(safe_vals)\n",
    "\n",
    "# 예: gamble 여부 (col 7), happiness (col 10)\n",
    "choices = trial_matrix[:, 6]\n",
    "happiness = trial_matrix[:, 9]\n",
    "print(choices)\n",
    "print(happiness)"
   ]
  },
  {
   "cell_type": "markdown",
   "id": "4d4d7341-7e5b-4545-8d06-9d2eb5d8983d",
   "metadata": {},
   "source": [
    "# Blain(2020)"
   ]
  },
  {
   "cell_type": "markdown",
   "id": "ebfd405b-60d0-499f-ae1e-a187d91e3e10",
   "metadata": {},
   "source": [
    "## CSV 만들기"
   ]
  },
  {
   "cell_type": "code",
   "execution_count": 2,
   "id": "56c38a49-7cba-42e8-89e1-a01d64884617",
   "metadata": {},
   "outputs": [
    {
     "name": "stdout",
     "output_type": "stream",
     "text": [
      "dict_keys(['__header__', '__version__', '__globals__', 'stable2volatile_data', 'volatile2stable_data'])\n"
     ]
    }
   ],
   "source": [
    "# 파일 불러오기\n",
    "# data = mat73.loadmat(\"Rutledge_GBE_risk_data_TOD.mat\")\n",
    "dataBl = scipy.io.loadmat(\"Blain_MoodTracksLearning_data.mat\")\n",
    "\n",
    "# 주요 구조 확인\n",
    "print(dataBl.keys())"
   ]
  },
  {
   "cell_type": "code",
   "execution_count": 3,
   "id": "af0f168d-7ab4-4ded-8608-e396ef415fe8",
   "metadata": {},
   "outputs": [],
   "source": [
    "# helper: mat_struct -> dict\n",
    "def mat_struct_to_dict(mat_struct):\n",
    "    result = {}\n",
    "    for field in mat_struct._fieldnames:\n",
    "        val = getattr(mat_struct, field)\n",
    "        if isinstance(val, np.ndarray) and val.size == 1:\n",
    "            val = val.item()\n",
    "        result[field] = val\n",
    "    return result"
   ]
  },
  {
   "cell_type": "code",
   "execution_count": 4,
   "id": "cbd63a02-f759-45ff-90a1-5de4ebd562e3",
   "metadata": {},
   "outputs": [
    {
     "name": "stdout",
     "output_type": "stream",
     "text": [
      "['id', 'date', 'age', 'gender', 'BDI', 'PHQ', 'STAI', 'HPS', 'main']\n",
      "['id', 'gender', 'age', 'starttimenum', 'starttime', 'date', 'dir', 'filename', 'netdir', 'background', 'sidelocation', 'sidelocation_outcome', 'FontSizeText', 'FontSizeTask', 'iti', 'iti_std', 'iti_instruction', 'time', 'timeout', 'timeout_instruction', 'optiontime', 'outcometime', 'choiceoffset', 'choiceconfirmationtime', 'outcometime_sign', 'outcometime_magnitude', 'leftrep', 'rightrep', 'ntrials', 'ntrials_context', 'nslots', 'order_tmp', 'order', 'env_cues', 'colors', 'index_color', 'colorleft', 'colorright', 'happytrials_task', 'blockside', 'list_pair', 'newcontext', 'upperbound', 'lowerbound', 'slot_sigmad', 'lambda', 'init', 'index_reversals', 'task_mu_tmp', 'task_mu', 'mat_mag', 'index_mag', 'outcomes', 'picture_background', 'maintask']\n"
     ]
    }
   ],
   "source": [
    "# 데이터 불러오기\n",
    "dataBl = scipy.io.loadmat(\"Blain_MoodTracksLearning_data.mat\", \n",
    "                          struct_as_record=False, squeeze_me=True)\n",
    "v2s_data = dataBl[\"volatile2stable_data\"]\n",
    "s2v_data = dataBl[\"stable2volatile_data\"]\n",
    "print(v2s_data[0]._fieldnames)\n",
    "print(v2s_data[0].main._fieldnames)"
   ]
  },
  {
   "cell_type": "markdown",
   "id": "c1ad432d-01c0-48cd-a323-f285d5b7b28e",
   "metadata": {},
   "source": [
    "### 참가자"
   ]
  },
  {
   "cell_type": "code",
   "execution_count": 31,
   "id": "b23775d2-147a-4d16-a148-afedf07c75ae",
   "metadata": {},
   "outputs": [],
   "source": [
    "# 결과 저장\n",
    "import numpy as np\n",
    "import pandas as pd\n",
    "\n",
    "participant_rows = []\n",
    "num = 0\n",
    "\n",
    "# 참가자 별 정보 저장\n",
    "for p in v2s_data:\n",
    "    pid = getattr(p, \"id\", np.nan)\n",
    "    base_info = {\n",
    "        'id': pid + \"v2s\" + str(num),\n",
    "        'age': getattr(p, \"age\", np.nan),\n",
    "        'gender': getattr(p, \"gender\", np.nan),\n",
    "    } \n",
    "    num += 1\n",
    "    \n",
    "    # 심리검사들 펼치기\n",
    "    for field in ['BDI', 'PHQ', 'STAI', 'HPS']:\n",
    "        substruct = getattr(p, field, None)\n",
    "        if substruct is not None:\n",
    "            flat = mat_struct_to_dict(substruct)\n",
    "            for k, v in flat.items():\n",
    "                base_info[f\"{field}_{k}\"] = v\n",
    "\n",
    "    participant_rows.append(base_info)\n",
    "\n",
    "# 데이터프레임 생성\n",
    "participant_df = pd.DataFrame(participant_rows)\n",
    "\n",
    "# 저장\n",
    "participant_df.to_csv(\"volatile2stable_participant_info.csv\", index=False)"
   ]
  },
  {
   "cell_type": "code",
   "execution_count": 32,
   "id": "9bd7495e-db6c-4d50-a2e0-064a4397d16c",
   "metadata": {},
   "outputs": [
    {
     "name": "stdout",
     "output_type": "stream",
     "text": [
      "(38, 16)\n",
      "<bound method Series.unique of 0      P_MoodFlexi_01_Behavior11_01v2s0\n",
      "1      P_MoodFlexi_01_Behavior12_01v2s1\n",
      "2      P_MoodFlexi_01_Behavior13_01v2s2\n",
      "3      P_MoodFlexi_01_Behavior14_01v2s3\n",
      "4      P_MoodFlexi_01_Behavior15_01v2s4\n",
      "5       P_MoodFlexi_01_Behavior1_01v2s5\n",
      "6      P_MoodFlexi_01_Behavior21_01v2s6\n",
      "7      P_MoodFlexi_01_Behavior23_01v2s7\n",
      "8      P_MoodFlexi_01_Behavior24_01v2s8\n",
      "9      P_MoodFlexi_01_Behavior25_01v2s9\n",
      "10    P_MoodFlexi_01_Behavior26_01v2s10\n",
      "11    P_MoodFlexi_01_Behavior27_01v2s11\n",
      "12    P_MoodFlexi_01_Behavior28_01v2s12\n",
      "13    P_MoodFlexi_01_Behavior29_01v2s13\n",
      "14     P_MoodFlexi_01_Behavior2_01v2s14\n",
      "15    P_MoodFlexi_01_Behavior31_01v2s15\n",
      "16    P_MoodFlexi_01_Behavior32_01v2s16\n",
      "17    P_MoodFlexi_01_Behavior33_01v2s17\n",
      "18    P_MoodFlexi_01_Behavior34_01v2s18\n",
      "19    P_MoodFlexi_01_Behavior41_01v2s19\n",
      "20    P_MoodFlexi_01_Behavior41_01v2s20\n",
      "21    P_MoodFlexi_01_Behavior42_01v2s21\n",
      "22    P_MoodFlexi_01_Behavior42_01v2s22\n",
      "23    P_MoodFlexi_01_Behavior43_01v2s23\n",
      "24    P_MoodFlexi_01_Behavior43_01v2s24\n",
      "25    P_MoodFlexi_01_Behavior44_01v2s25\n",
      "26    P_MoodFlexi_01_Behavior45_01v2s26\n",
      "27    P_MoodFlexi_01_Behavior45_01v2s27\n",
      "28    P_MoodFlexi_01_Behavior46_01v2s28\n",
      "29    P_MoodFlexi_01_Behavior46_01v2s29\n",
      "30    P_MoodFlexi_01_Behavior47_01v2s30\n",
      "31    P_MoodFlexi_01_Behavior48_01v2s31\n",
      "32    P_MoodFlexi_01_Behavior49_01v2s32\n",
      "33    P_MoodFlexi_01_Behavior50_01v2s33\n",
      "34    P_MoodFlexi_01_Behavior51_01v2s34\n",
      "35    P_MoodFlexi_01_Behavior55_01v2s35\n",
      "36    P_MoodFlexi_01_Behavior61_01v2s36\n",
      "37    P_MoodFlexi_01_Behavior62_01v2s37\n",
      "Name: id, dtype: object>\n"
     ]
    }
   ],
   "source": [
    "print(participant_df.shape)\n",
    "print(participant_df[\"id\"].unique)"
   ]
  },
  {
   "cell_type": "code",
   "execution_count": 33,
   "id": "308196a8-2c29-4414-b7b9-692dacf6873a",
   "metadata": {},
   "outputs": [],
   "source": [
    "# 결과 저장\n",
    "participant_rows = []\n",
    "num = 0\n",
    "\n",
    "# 참가자 별 정보 저장\n",
    "for p in s2v_data:\n",
    "    pid = getattr(p, \"id\", np.nan)\n",
    "    base_info = {\n",
    "        'id': pid + \"s2v\" + str(num),\n",
    "        'age': getattr(p, \"age\", np.nan),\n",
    "        'gender': getattr(p, \"gender\", np.nan),\n",
    "    } \n",
    "    num += 1\n",
    "\n",
    "    # 심리검사들 펼치기\n",
    "    for field in ['BDI', 'PHQ', 'STAI', 'HPS']:\n",
    "        substruct = getattr(p, field, None)\n",
    "        if substruct is not None:\n",
    "            flat = mat_struct_to_dict(substruct)\n",
    "            for k, v in flat.items():\n",
    "                base_info[f\"{field}_{k}\"] = v\n",
    "\n",
    "    participant_rows.append(base_info)\n",
    "\n",
    "# 데이터프레임 생성\n",
    "participant_df = pd.DataFrame(participant_rows)\n",
    "\n",
    "# 저장\n",
    "participant_df.to_csv(\"stable2volatile_participant_info.csv\", index=False)"
   ]
  },
  {
   "cell_type": "code",
   "execution_count": 34,
   "id": "632a6cd3-336b-4803-96a7-369b84944d3f",
   "metadata": {},
   "outputs": [
    {
     "name": "stdout",
     "output_type": "stream",
     "text": [
      "(37, 13)\n",
      "<bound method Series.unique of 0      P_MoodFlexi_01_Behavior10_01s2v0\n",
      "1      P_MoodFlexi_01_Behavior11_01s2v1\n",
      "2      P_MoodFlexi_01_Behavior12_01s2v2\n",
      "3      P_MoodFlexi_01_Behavior13_01s2v3\n",
      "4      P_MoodFlexi_01_Behavior14_01s2v4\n",
      "5      P_MoodFlexi_01_Behavior15_01s2v5\n",
      "6      P_MoodFlexi_01_Behavior16_01s2v6\n",
      "7      P_MoodFlexi_01_Behavior17_01s2v7\n",
      "8      P_MoodFlexi_01_Behavior19_01s2v8\n",
      "9       P_MoodFlexi_01_Behavior1_01s2v9\n",
      "10    P_MoodFlexi_01_Behavior20_01s2v10\n",
      "11    P_MoodFlexi_01_Behavior21_01s2v11\n",
      "12    P_MoodFlexi_01_Behavior22_01s2v12\n",
      "13    P_MoodFlexi_01_Behavior23_01s2v13\n",
      "14    P_MoodFlexi_01_Behavior24_01s2v14\n",
      "15     P_MoodFlexi_01_Behavior2_01s2v15\n",
      "16    P_MoodFlexi_01_Behavior31_01s2v16\n",
      "17    P_MoodFlexi_01_Behavior33_01s2v17\n",
      "18    P_MoodFlexi_01_Behavior34_01s2v18\n",
      "19    P_MoodFlexi_01_Behavior35_01s2v19\n",
      "20     P_MoodFlexi_01_Behavior3_01s2v20\n",
      "21     P_MoodFlexi_01_Behavior4_01s2v21\n",
      "22     P_MoodFlexi_01_Behavior5_01s2v22\n",
      "23     P_MoodFlexi_01_Behavior6_01s2v23\n",
      "24    P_MoodFlexi_01_Behavior71_01s2v24\n",
      "25    P_MoodFlexi_01_Behavior72_01s2v25\n",
      "26    P_MoodFlexi_01_Behavior73_01s2v26\n",
      "27    P_MoodFlexi_01_Behavior74_01s2v27\n",
      "28    P_MoodFlexi_01_Behavior75_01s2v28\n",
      "29    P_MoodFlexi_01_Behavior76_01s2v29\n",
      "30    P_MoodFlexi_01_Behavior77_01s2v30\n",
      "31    P_MoodFlexi_01_Behavior78_01s2v31\n",
      "32    P_MoodFlexi_01_Behavior79_01s2v32\n",
      "33     P_MoodFlexi_01_Behavior7_01s2v33\n",
      "34    P_MoodFlexi_01_Behavior80_01s2v34\n",
      "35     P_MoodFlexi_01_Behavior8_01s2v35\n",
      "36     P_MoodFlexi_01_Behavior9_01s2v36\n",
      "Name: id, dtype: object>\n"
     ]
    }
   ],
   "source": [
    "print(participant_df.shape)\n",
    "print(participant_df[\"id\"].unique)"
   ]
  },
  {
   "cell_type": "markdown",
   "id": "06ed4547-b7ed-40bb-a2c6-aace4c81f04e",
   "metadata": {},
   "source": [
    "### 시행"
   ]
  },
  {
   "cell_type": "markdown",
   "id": "9ce180ee-2a6f-4a06-8b79-97e2fae55237",
   "metadata": {},
   "source": [
    "### v2s"
   ]
  },
  {
   "cell_type": "code",
   "execution_count": 62,
   "id": "298c3055-8036-4c56-9e8f-00165dbeb068",
   "metadata": {},
   "outputs": [],
   "source": [
    "#v2s_data[0].main._fieldnames"
   ]
  },
  {
   "cell_type": "code",
   "execution_count": 63,
   "id": "e89e97fa-36a3-464a-9cc0-aba131f975e2",
   "metadata": {},
   "outputs": [
    {
     "data": {
      "text/plain": [
       "array([[2.00000000e-01, 8.00000000e-01, 4.00000000e+01, ...,\n",
       "        1.32460949e+03, 0.00000000e+00, 0.00000000e+00],\n",
       "       [2.00000000e-01, 8.00000000e-01, 4.00000000e+01, ...,\n",
       "        1.31167389e+03, 4.00000000e+01, 0.00000000e+00],\n",
       "       [2.00000000e-01, 8.00000000e-01, 2.00000000e+01, ...,\n",
       "        9.03009187e+02, 4.00000000e+01, 0.00000000e+00],\n",
       "       ...,\n",
       "       [2.00000000e-01, 8.00000000e-01, 1.00000000e+01, ...,\n",
       "        1.85940246e+03, 4.00000000e+01, 0.00000000e+00],\n",
       "       [2.00000000e-01, 8.00000000e-01, 1.00000000e+01, ...,\n",
       "        1.57708463e+03, 1.00000000e+01, 0.00000000e+00],\n",
       "       [2.00000000e-01, 8.00000000e-01, 8.00000000e+01, ...,\n",
       "        1.66140333e+03, 0.00000000e+00, 1.63406480e+03]], shape=(160, 18))"
      ]
     },
     "execution_count": 63,
     "metadata": {},
     "output_type": "execute_result"
    }
   ],
   "source": [
    "v2s_data[0].main.maintask"
   ]
  },
  {
   "cell_type": "code",
   "execution_count": 64,
   "id": "a3fd1932-1647-4411-bc6a-4d7b87cda8f5",
   "metadata": {},
   "outputs": [],
   "source": [
    "import numpy as np\n",
    "# 핵심 열만 추출\n",
    "columns_final = [\n",
    "    \"prob1\", \"prob2\", \"mag1\", \"mag2\", \"stimID\", \"choice\",\n",
    "    \"happy_rating\", \"gain_loss\"\n",
    "]\n",
    "\n",
    "# 결과 저장\n",
    "trial_rows = []\n",
    "num = 0\n",
    "\n",
    "for p in v2s_data:\n",
    "    pid = getattr(p, \"id\", np.nan)\n",
    "    pid = pid + \"v2s\" + str(num)\n",
    "    num += 1\n",
    "    \n",
    "    maintask = getattr(getattr(p, \"main\", None), \"maintask\", None)\n",
    "    if isinstance(maintask, np.ndarray) and maintask.ndim == 2 and maintask.shape[1] >= 16:\n",
    "        for i, trial in enumerate(maintask):\n",
    "            filtered = [\n",
    "                trial[0],  # prob1\n",
    "                trial[1],  # prob2\n",
    "                trial[2],  # mag1\n",
    "                trial[3],  # mag2\n",
    "                trial[4],  # stimID\n",
    "                trial[5],  # choice\n",
    "                trial[7],  # happy_rating\n",
    "                trial[16],  # gain_loss\n",
    "            ]\n",
    "            trial_rows.append([pid, i + 1] + filtered)"
   ]
  },
  {
   "cell_type": "code",
   "execution_count": 65,
   "id": "d5abba78-2e36-4657-8850-b69a663d8ead",
   "metadata": {},
   "outputs": [
    {
     "name": "stdout",
     "output_type": "stream",
     "text": [
      "['P_MoodFlexi_01_Behavior11_01v2s0', 1, np.float64(0.2), np.float64(0.8), np.float64(40.0), np.float64(20.0), np.float64(1.0), np.float64(0.0), np.float64(nan), np.float64(0.0)]\n",
      "['P_MoodFlexi_01_Behavior11_01v2s0', 2, np.float64(0.2), np.float64(0.8), np.float64(40.0), np.float64(40.0), np.float64(2.0), np.float64(1.0), np.float64(nan), np.float64(40.0)]\n",
      "['P_MoodFlexi_01_Behavior11_01v2s0', 3, np.float64(0.2), np.float64(0.8), np.float64(20.0), np.float64(40.0), np.float64(2.0), np.float64(1.0), np.float64(nan), np.float64(40.0)]\n",
      "['P_MoodFlexi_01_Behavior11_01v2s0', 4, np.float64(0.2), np.float64(0.8), np.float64(10.0), np.float64(40.0), np.float64(2.0), np.float64(1.0), np.float64(0.5924479166666666), np.float64(0.0)]\n",
      "['P_MoodFlexi_01_Behavior11_01v2s0', 5, np.float64(0.2), np.float64(0.8), np.float64(10.0), np.float64(10.0), np.float64(1.0), np.float64(0.0), np.float64(nan), np.float64(0.0)]\n"
     ]
    }
   ],
   "source": [
    "for i in range(5):\n",
    "    print(trial_rows[i])"
   ]
  },
  {
   "cell_type": "code",
   "execution_count": 66,
   "id": "c32ab503-7b29-49bf-a4b0-13e85c0ae7a6",
   "metadata": {},
   "outputs": [
    {
     "data": {
      "text/plain": [
       "6080"
      ]
     },
     "execution_count": 66,
     "metadata": {},
     "output_type": "execute_result"
    }
   ],
   "source": [
    "len(trial_rows) # 6080 for v2s"
   ]
  },
  {
   "cell_type": "code",
   "execution_count": 67,
   "id": "f525fe63-7a69-4abc-b437-5651375a605d",
   "metadata": {},
   "outputs": [],
   "source": [
    "# DataFrame 생성\n",
    "import pandas as pd\n",
    "df = pd.DataFrame(trial_rows, columns=[\"id\", \"trial\"] + columns_final)\n",
    "df.to_csv(\"v2s_new_trial_data.csv\", index=False)"
   ]
  },
  {
   "cell_type": "code",
   "execution_count": 68,
   "id": "cff022f0-970f-4e7a-a910-093d3d71b476",
   "metadata": {},
   "outputs": [],
   "source": [
    "df_s2v = pd.read_csv(\"stable2volatile_participant_info.csv\")\n",
    "df_v2s = pd.read_csv(\"volatile2stable_participant_info.csv\")\n",
    "\n",
    "df_all = pd.concat([df_s2v, df_v2s], ignore_index=True)"
   ]
  },
  {
   "cell_type": "code",
   "execution_count": 69,
   "id": "657bcc75-ac8f-4428-b572-ff192cceb16d",
   "metadata": {},
   "outputs": [
    {
     "name": "stdout",
     "output_type": "stream",
     "text": [
      "(37,)\n",
      "(38,)\n"
     ]
    }
   ],
   "source": [
    "print(df_s2v[\"id\"].unique().shape)\n",
    "print(df_v2s[\"id\"].unique().shape)"
   ]
  },
  {
   "cell_type": "code",
   "execution_count": 70,
   "id": "51176561-fd73-4a4f-a981-c57c131b290f",
   "metadata": {},
   "outputs": [
    {
     "name": "stdout",
     "output_type": "stream",
     "text": [
      "(75,)\n",
      "['P_MoodFlexi_01_Behavior10_01s2v0' 'P_MoodFlexi_01_Behavior11_01s2v1'\n",
      " 'P_MoodFlexi_01_Behavior12_01s2v2' 'P_MoodFlexi_01_Behavior13_01s2v3'\n",
      " 'P_MoodFlexi_01_Behavior14_01s2v4' 'P_MoodFlexi_01_Behavior15_01s2v5'\n",
      " 'P_MoodFlexi_01_Behavior16_01s2v6' 'P_MoodFlexi_01_Behavior17_01s2v7'\n",
      " 'P_MoodFlexi_01_Behavior19_01s2v8' 'P_MoodFlexi_01_Behavior1_01s2v9'\n",
      " 'P_MoodFlexi_01_Behavior20_01s2v10' 'P_MoodFlexi_01_Behavior21_01s2v11'\n",
      " 'P_MoodFlexi_01_Behavior22_01s2v12' 'P_MoodFlexi_01_Behavior23_01s2v13'\n",
      " 'P_MoodFlexi_01_Behavior24_01s2v14' 'P_MoodFlexi_01_Behavior2_01s2v15'\n",
      " 'P_MoodFlexi_01_Behavior31_01s2v16' 'P_MoodFlexi_01_Behavior33_01s2v17'\n",
      " 'P_MoodFlexi_01_Behavior34_01s2v18' 'P_MoodFlexi_01_Behavior35_01s2v19'\n",
      " 'P_MoodFlexi_01_Behavior3_01s2v20' 'P_MoodFlexi_01_Behavior4_01s2v21'\n",
      " 'P_MoodFlexi_01_Behavior5_01s2v22' 'P_MoodFlexi_01_Behavior6_01s2v23'\n",
      " 'P_MoodFlexi_01_Behavior71_01s2v24' 'P_MoodFlexi_01_Behavior72_01s2v25'\n",
      " 'P_MoodFlexi_01_Behavior73_01s2v26' 'P_MoodFlexi_01_Behavior74_01s2v27'\n",
      " 'P_MoodFlexi_01_Behavior75_01s2v28' 'P_MoodFlexi_01_Behavior76_01s2v29'\n",
      " 'P_MoodFlexi_01_Behavior77_01s2v30' 'P_MoodFlexi_01_Behavior78_01s2v31'\n",
      " 'P_MoodFlexi_01_Behavior79_01s2v32' 'P_MoodFlexi_01_Behavior7_01s2v33'\n",
      " 'P_MoodFlexi_01_Behavior80_01s2v34' 'P_MoodFlexi_01_Behavior8_01s2v35'\n",
      " 'P_MoodFlexi_01_Behavior9_01s2v36' 'P_MoodFlexi_01_Behavior11_01v2s0'\n",
      " 'P_MoodFlexi_01_Behavior12_01v2s1' 'P_MoodFlexi_01_Behavior13_01v2s2'\n",
      " 'P_MoodFlexi_01_Behavior14_01v2s3' 'P_MoodFlexi_01_Behavior15_01v2s4'\n",
      " 'P_MoodFlexi_01_Behavior1_01v2s5' 'P_MoodFlexi_01_Behavior21_01v2s6'\n",
      " 'P_MoodFlexi_01_Behavior23_01v2s7' 'P_MoodFlexi_01_Behavior24_01v2s8'\n",
      " 'P_MoodFlexi_01_Behavior25_01v2s9' 'P_MoodFlexi_01_Behavior26_01v2s10'\n",
      " 'P_MoodFlexi_01_Behavior27_01v2s11' 'P_MoodFlexi_01_Behavior28_01v2s12'\n",
      " 'P_MoodFlexi_01_Behavior29_01v2s13' 'P_MoodFlexi_01_Behavior2_01v2s14'\n",
      " 'P_MoodFlexi_01_Behavior31_01v2s15' 'P_MoodFlexi_01_Behavior32_01v2s16'\n",
      " 'P_MoodFlexi_01_Behavior33_01v2s17' 'P_MoodFlexi_01_Behavior34_01v2s18'\n",
      " 'P_MoodFlexi_01_Behavior41_01v2s19' 'P_MoodFlexi_01_Behavior41_01v2s20'\n",
      " 'P_MoodFlexi_01_Behavior42_01v2s21' 'P_MoodFlexi_01_Behavior42_01v2s22'\n",
      " 'P_MoodFlexi_01_Behavior43_01v2s23' 'P_MoodFlexi_01_Behavior43_01v2s24'\n",
      " 'P_MoodFlexi_01_Behavior44_01v2s25' 'P_MoodFlexi_01_Behavior45_01v2s26'\n",
      " 'P_MoodFlexi_01_Behavior45_01v2s27' 'P_MoodFlexi_01_Behavior46_01v2s28'\n",
      " 'P_MoodFlexi_01_Behavior46_01v2s29' 'P_MoodFlexi_01_Behavior47_01v2s30'\n",
      " 'P_MoodFlexi_01_Behavior48_01v2s31' 'P_MoodFlexi_01_Behavior49_01v2s32'\n",
      " 'P_MoodFlexi_01_Behavior50_01v2s33' 'P_MoodFlexi_01_Behavior51_01v2s34'\n",
      " 'P_MoodFlexi_01_Behavior55_01v2s35' 'P_MoodFlexi_01_Behavior61_01v2s36'\n",
      " 'P_MoodFlexi_01_Behavior62_01v2s37']\n"
     ]
    }
   ],
   "source": [
    "print(df_all[\"id\"].unique().shape)\n",
    "print(df_all[\"id\"].unique())"
   ]
  },
  {
   "cell_type": "code",
   "execution_count": 71,
   "id": "ea997ee9-237d-4573-b779-67a5a95cb23e",
   "metadata": {},
   "outputs": [],
   "source": [
    "df_all.to_csv(\"combined_participant_info.csv\", index=False)"
   ]
  },
  {
   "cell_type": "markdown",
   "id": "902d8f1a-9cbe-4365-b3f2-44a681e9766a",
   "metadata": {},
   "source": [
    "### s2v"
   ]
  },
  {
   "cell_type": "code",
   "execution_count": 72,
   "id": "5f2515c9-1d1d-4c17-bab1-68bd21ab48bd",
   "metadata": {},
   "outputs": [
    {
     "data": {
      "text/plain": [
       "<scipy.io.matlab._mio5_params.mat_struct at 0x7f9e7630e930>"
      ]
     },
     "execution_count": 72,
     "metadata": {},
     "output_type": "execute_result"
    }
   ],
   "source": [
    "s2v_data[0]"
   ]
  },
  {
   "cell_type": "code",
   "execution_count": 73,
   "id": "cbf4c13d-683b-464a-9d74-0233e571350f",
   "metadata": {},
   "outputs": [],
   "source": [
    "import numpy as np\n",
    "# 핵심 열만 추출\n",
    "columns_final = [\n",
    "    \"prob1\", \"prob2\", \"mag1\", \"mag2\", \"stimID\", \"choice\",\n",
    "    \"happy_rating\", \"gain_loss\"\n",
    "]\n",
    "\n",
    "# 결과 저장\n",
    "trial_rows = []\n",
    "num = 0\n",
    "\n",
    "for p in s2v_data:\n",
    "    pid = getattr(p, \"id\", np.nan)\n",
    "    pid = pid + \"s2v\" + str(num)\n",
    "    num += 1\n",
    "    \n",
    "    maintask = getattr(getattr(p, \"main\", None), \"maintask\", None)\n",
    "    if isinstance(maintask, np.ndarray) and maintask.ndim == 2 and maintask.shape[1] >= 16:\n",
    "        for i, trial in enumerate(maintask):\n",
    "            filtered = [\n",
    "                trial[0],  # prob1\n",
    "                trial[1],  # prob2\n",
    "                trial[2],  # mag1\n",
    "                trial[3],  # mag2\n",
    "                trial[4],  # stimID\n",
    "                trial[5],  # choice\n",
    "                trial[7],  # happy_rating\n",
    "                trial[16],  # gain_loss\n",
    "            ]\n",
    "            trial_rows.append([pid, i + 1] + filtered)\n",
    "\n",
    "\n",
    "# DataFrame 생성\n",
    "df = pd.DataFrame(trial_rows, columns=[\"id\", \"trial\"] + columns_final)\n",
    "df.to_csv(\"s2v_new_trial_data.csv\", index=False)"
   ]
  },
  {
   "cell_type": "code",
   "execution_count": 74,
   "id": "790926ac-4933-442c-bf4d-3768bf752890",
   "metadata": {},
   "outputs": [
    {
     "name": "stdout",
     "output_type": "stream",
     "text": [
      "['P_MoodFlexi_01_Behavior10_01s2v0', 1, np.float64(0.2), np.float64(0.8), np.float64(20.0), np.float64(40.0), np.float64(2.0), np.float64(1.0), np.float64(nan), np.float64(40.0)]\n",
      "['P_MoodFlexi_01_Behavior10_01s2v0', 2, np.float64(0.2), np.float64(0.8), np.float64(10.0), np.float64(60.0), np.float64(2.0), np.float64(1.0), np.float64(nan), np.float64(60.0)]\n",
      "['P_MoodFlexi_01_Behavior10_01s2v0', 3, np.float64(0.2), np.float64(0.8), np.float64(40.0), np.float64(20.0), np.float64(1.0), np.float64(0.0), np.float64(nan), np.float64(0.0)]\n",
      "['P_MoodFlexi_01_Behavior10_01s2v0', 4, np.float64(0.2), np.float64(0.8), np.float64(10.0), np.float64(80.0), np.float64(2.0), np.float64(1.0), np.float64(0.22526041666666666), np.float64(0.0)]\n",
      "['P_MoodFlexi_01_Behavior10_01s2v0', 5, np.float64(0.2), np.float64(0.8), np.float64(40.0), np.float64(10.0), np.float64(1.0), np.float64(0.0), np.float64(nan), np.float64(0.0)]\n"
     ]
    }
   ],
   "source": [
    "for i in range(5):\n",
    "    print(trial_rows[i])"
   ]
  },
  {
   "cell_type": "code",
   "execution_count": 75,
   "id": "bd010358-e05b-470d-8759-874407abb419",
   "metadata": {},
   "outputs": [
    {
     "data": {
      "text/plain": [
       "5920"
      ]
     },
     "execution_count": 75,
     "metadata": {},
     "output_type": "execute_result"
    }
   ],
   "source": [
    "len(trial_rows) # 5920 for s2v"
   ]
  },
  {
   "cell_type": "code",
   "execution_count": 76,
   "id": "95c3c118-249a-44d2-8f6b-f509830397d9",
   "metadata": {},
   "outputs": [
    {
     "name": "stdout",
     "output_type": "stream",
     "text": [
      "                                    id  trial  prob1  prob2  mag1  mag2  \\\n",
      "0     P_MoodFlexi_01_Behavior10_01s2v0      1    0.2    0.8  20.0  40.0   \n",
      "1     P_MoodFlexi_01_Behavior10_01s2v0      2    0.2    0.8  10.0  60.0   \n",
      "2     P_MoodFlexi_01_Behavior10_01s2v0      3    0.2    0.8  40.0  20.0   \n",
      "3     P_MoodFlexi_01_Behavior10_01s2v0      4    0.2    0.8  10.0  80.0   \n",
      "4     P_MoodFlexi_01_Behavior10_01s2v0      5    0.2    0.8  40.0  10.0   \n",
      "...                                ...    ...    ...    ...   ...   ...   \n",
      "5915  P_MoodFlexi_01_Behavior9_01s2v36    156    0.2    0.8  20.0  40.0   \n",
      "5916  P_MoodFlexi_01_Behavior9_01s2v36    157    0.2    0.8  10.0  80.0   \n",
      "5917  P_MoodFlexi_01_Behavior9_01s2v36    158    0.2    0.8  40.0  10.0   \n",
      "5918  P_MoodFlexi_01_Behavior9_01s2v36    159    0.2    0.8  10.0  60.0   \n",
      "5919  P_MoodFlexi_01_Behavior9_01s2v36    160    0.2    0.8  60.0  10.0   \n",
      "\n",
      "      stimID  choice  happy_rating  gain_loss group  \n",
      "0        2.0     1.0           NaN       40.0   s2v  \n",
      "1        2.0     1.0           NaN       60.0   s2v  \n",
      "2        1.0     0.0           NaN        0.0   s2v  \n",
      "3        2.0     1.0      0.225260        0.0   s2v  \n",
      "4        1.0     0.0           NaN        0.0   s2v  \n",
      "...      ...     ...           ...        ...   ...  \n",
      "5915     2.0     1.0      0.964844       40.0   s2v  \n",
      "5916     2.0     1.0           NaN       80.0   s2v  \n",
      "5917     1.0     0.0           NaN       40.0   s2v  \n",
      "5918     1.0     0.0           NaN        0.0   s2v  \n",
      "5919     2.0     1.0      0.983073       10.0   s2v  \n",
      "\n",
      "[5920 rows x 11 columns]\n",
      "(37,)\n",
      "                                     id  trial  prob1  prob2  mag1  mag2  \\\n",
      "0      P_MoodFlexi_01_Behavior11_01v2s0      1    0.2    0.8  40.0  20.0   \n",
      "1      P_MoodFlexi_01_Behavior11_01v2s0      2    0.2    0.8  40.0  40.0   \n",
      "2      P_MoodFlexi_01_Behavior11_01v2s0      3    0.2    0.8  20.0  40.0   \n",
      "3      P_MoodFlexi_01_Behavior11_01v2s0      4    0.2    0.8  10.0  40.0   \n",
      "4      P_MoodFlexi_01_Behavior11_01v2s0      5    0.2    0.8  10.0  10.0   \n",
      "...                                 ...    ...    ...    ...   ...   ...   \n",
      "6075  P_MoodFlexi_01_Behavior62_01v2s37    156    0.2    0.8  20.0  40.0   \n",
      "6076  P_MoodFlexi_01_Behavior62_01v2s37    157    0.2    0.8  60.0  10.0   \n",
      "6077  P_MoodFlexi_01_Behavior62_01v2s37    158    0.2    0.8  10.0  40.0   \n",
      "6078  P_MoodFlexi_01_Behavior62_01v2s37    159    0.2    0.8  40.0  40.0   \n",
      "6079  P_MoodFlexi_01_Behavior62_01v2s37    160    0.2    0.8  10.0  60.0   \n",
      "\n",
      "      stimID  choice  happy_rating  gain_loss group  \n",
      "0        1.0     0.0           NaN        0.0   v2s  \n",
      "1        2.0     1.0           NaN       40.0   v2s  \n",
      "2        2.0     1.0           NaN       40.0   v2s  \n",
      "3        2.0     1.0      0.592448        0.0   v2s  \n",
      "4        1.0     0.0           NaN        0.0   v2s  \n",
      "...      ...     ...           ...        ...   ...  \n",
      "6075     2.0     1.0           NaN       40.0   v2s  \n",
      "6076     2.0     1.0      0.647135       10.0   v2s  \n",
      "6077     2.0     1.0           NaN       40.0   v2s  \n",
      "6078     2.0     1.0           NaN       40.0   v2s  \n",
      "6079     2.0     1.0      0.816406       60.0   v2s  \n",
      "\n",
      "[6080 rows x 11 columns]\n",
      "(38,)\n"
     ]
    }
   ],
   "source": [
    "import pandas as pd\n",
    "\n",
    "# Reload files after code state reset\n",
    "df_s2v = pd.read_csv(\"s2v_new_trial_data.csv\")\n",
    "df_v2s = pd.read_csv(\"v2s_new_trial_data.csv\")\n",
    "\n",
    "# Add group labels\n",
    "df_s2v[\"group\"] = \"s2v\"\n",
    "print(df_s2v)\n",
    "print(df_s2v[\"id\"].unique().shape)\n",
    "df_v2s[\"group\"] = \"v2s\"\n",
    "print(df_v2s)\n",
    "print(df_v2s[\"id\"].unique().shape)\n",
    "\n",
    "# Concatenate both\n",
    "df_all = pd.concat([df_s2v, df_v2s], ignore_index=True)\n",
    "\n",
    "# context를 trial 기준으로 정확히 부여\n",
    "def assign_context(row):\n",
    "    if row[\"group\"] == \"s2v\":\n",
    "        return \"stable\" if row[\"trial\"] <= 80 else \"volatile\"\n",
    "    else:\n",
    "        return \"volatile\" if row[\"trial\"] <= 80 else \"stable\"\n",
    "\n",
    "df_all[\"context\"] = df_all.apply(assign_context, axis=1)"
   ]
  },
  {
   "cell_type": "code",
   "execution_count": 77,
   "id": "e493358d-a4e8-4721-9769-aac779840af8",
   "metadata": {},
   "outputs": [
    {
     "name": "stdout",
     "output_type": "stream",
     "text": [
      "(75,)\n",
      "                                      id  trial  prob1  prob2  mag1  mag2  \\\n",
      "0       P_MoodFlexi_01_Behavior10_01s2v0      1    0.2    0.8  20.0  40.0   \n",
      "1       P_MoodFlexi_01_Behavior10_01s2v0      2    0.2    0.8  10.0  60.0   \n",
      "2       P_MoodFlexi_01_Behavior10_01s2v0      3    0.2    0.8  40.0  20.0   \n",
      "3       P_MoodFlexi_01_Behavior10_01s2v0      4    0.2    0.8  10.0  80.0   \n",
      "4       P_MoodFlexi_01_Behavior10_01s2v0      5    0.2    0.8  40.0  10.0   \n",
      "...                                  ...    ...    ...    ...   ...   ...   \n",
      "11995  P_MoodFlexi_01_Behavior62_01v2s37    156    0.2    0.8  20.0  40.0   \n",
      "11996  P_MoodFlexi_01_Behavior62_01v2s37    157    0.2    0.8  60.0  10.0   \n",
      "11997  P_MoodFlexi_01_Behavior62_01v2s37    158    0.2    0.8  10.0  40.0   \n",
      "11998  P_MoodFlexi_01_Behavior62_01v2s37    159    0.2    0.8  40.0  40.0   \n",
      "11999  P_MoodFlexi_01_Behavior62_01v2s37    160    0.2    0.8  10.0  60.0   \n",
      "\n",
      "       stimID  choice  happy_rating  gain_loss group context  \n",
      "0         2.0     1.0           NaN       40.0   s2v  stable  \n",
      "1         2.0     1.0           NaN       60.0   s2v  stable  \n",
      "2         1.0     0.0           NaN        0.0   s2v  stable  \n",
      "3         2.0     1.0      0.225260        0.0   s2v  stable  \n",
      "4         1.0     0.0           NaN        0.0   s2v  stable  \n",
      "...       ...     ...           ...        ...   ...     ...  \n",
      "11995     2.0     1.0           NaN       40.0   v2s  stable  \n",
      "11996     2.0     1.0      0.647135       10.0   v2s  stable  \n",
      "11997     2.0     1.0           NaN       40.0   v2s  stable  \n",
      "11998     2.0     1.0           NaN       40.0   v2s  stable  \n",
      "11999     2.0     1.0      0.816406       60.0   v2s  stable  \n",
      "\n",
      "[12000 rows x 12 columns]\n"
     ]
    }
   ],
   "source": [
    "print(df_all[\"id\"].unique().shape)\n",
    "print(df_all)"
   ]
  },
  {
   "cell_type": "code",
   "execution_count": 78,
   "id": "7f6bd74a-dc12-44bf-b90d-48db312a67e6",
   "metadata": {},
   "outputs": [],
   "source": [
    "df_all.to_csv(\"combined_trials_new.csv\", index=False)"
   ]
  },
  {
   "cell_type": "markdown",
   "id": "a1fe584d-a851-4691-9970-04ff43d2fef8",
   "metadata": {},
   "source": [
    "## Task 1 : Age and Risk Aversion"
   ]
  },
  {
   "cell_type": "code",
   "execution_count": 42,
   "id": "6d5289f1-221e-475a-b9c0-caa601bbd5c4",
   "metadata": {},
   "outputs": [],
   "source": [
    "import numpy as np\n",
    "import matplotlib.pyplot as plt\n",
    "\n",
    "# 결과 저장용 리스트\n",
    "ages, gain_rates, mixed_rates, loss_rates = [], [], [], []\n",
    "\n",
    "for subj in subjData:\n",
    "    subj = subj  # numpy.void 타입 구조체\n",
    "    \n",
    "    try:\n",
    "        age = subj['age'][0][0]\n",
    "        trials = subj['data'][0][0]  # shape: (30, 15)\n",
    "        \n",
    "        if trials.shape[0] < 30:\n",
    "            continue\n",
    "        \n",
    "        safe_vals = trials[:, 2]     # column 3: safeValue\n",
    "        choices = trials[:, 6]       # column 7: choice (1=gamble, 0=safe)\n",
    "\n",
    "        # 각 타입별 trial 추출\n",
    "        gain_trials = choices[safe_vals > 0]\n",
    "        mixed_trials = choices[safe_vals == 0]\n",
    "        loss_trials = choices[safe_vals < 0]\n",
    "\n",
    "        # 선택 비율 (%)\n",
    "        gain_rate = np.mean(gain_trials) * 100 if len(gain_trials) > 0 else np.nan\n",
    "        mixed_rate = np.mean(mixed_trials) * 100 if len(mixed_trials) > 0 else np.nan\n",
    "        loss_rate = np.mean(loss_trials) * 100 if len(loss_trials) > 0 else np.nan\n",
    "\n",
    "        # 저장\n",
    "        ages.append(age)\n",
    "        gain_rates.append(gain_rate)\n",
    "        mixed_rates.append(mixed_rate)\n",
    "        loss_rates.append(loss_rate)\n",
    "\n",
    "    except Exception as e:\n",
    "        continue  # 결측/형식 이상 예외는 건너뛰기\n"
   ]
  },
  {
   "cell_type": "code",
   "execution_count": 44,
   "id": "ca0cd59d-6b6c-48a0-9be7-faf651661a2f",
   "metadata": {},
   "outputs": [
    {
     "data": {
      "image/png": "[encoded data removed]",
      "text/plain": [
       "<Figure size 800x500 with 1 Axes>"
      ]
     },
     "metadata": {},
     "output_type": "display_data"
    }
   ],
   "source": [
    "# numpy 배열로 변환\n",
    "ages = np.array(ages)\n",
    "gain_rates = np.array(gain_rates)\n",
    "mixed_rates = np.array(mixed_rates)\n",
    "loss_rates = np.array(loss_rates)\n",
    "\n",
    "age_groups = range(1, 7)  # 1~6번 그룹만 (18~69세)\n",
    "\n",
    "gain_means, gain_sems = [], []\n",
    "mixed_means, mixed_sems = [], []\n",
    "loss_means, loss_sems = [], []\n",
    "\n",
    "for ag in age_groups:\n",
    "    mask = ages == ag\n",
    "    gain_vals = gain_rates[mask]\n",
    "    mixed_vals = mixed_rates[mask]\n",
    "    loss_vals = loss_rates[mask]\n",
    "\n",
    "    gain_means.append(np.nanmean(gain_vals))\n",
    "    gain_sems.append(np.nanstd(gain_vals) / np.sqrt(np.sum(mask)))\n",
    "\n",
    "    mixed_means.append(np.nanmean(mixed_vals))\n",
    "    mixed_sems.append(np.nanstd(mixed_vals) / np.sqrt(np.sum(mask)))\n",
    "\n",
    "    loss_means.append(np.nanmean(loss_vals))\n",
    "    loss_sems.append(np.nanstd(loss_vals) / np.sqrt(np.sum(mask)))\n",
    "\n",
    "# 그래프\n",
    "plt.figure(figsize=(8,5))\n",
    "plt.errorbar(age_groups, gain_means, yerr=gain_sems, label='Gain', fmt='-o')\n",
    "plt.errorbar(age_groups, mixed_means, yerr=mixed_sems, label='Mixed', fmt='-o')\n",
    "plt.errorbar(age_groups, loss_means, yerr=loss_sems, label='Loss', fmt='-o')\n",
    "plt.xticks(age_groups, ['18-24', '25-29', '30-39', '40-49', '50-59', '60-69'])\n",
    "plt.xlabel(\"Age group\")\n",
    "plt.ylabel(\"Gambles chosen (%)\")\n",
    "plt.title(\"Risk-taking by Age Group\")\n",
    "plt.ylim(50, 75)\n",
    "plt.grid(True)\n",
    "plt.legend()\n",
    "plt.show()\n"
   ]
  },
  {
   "cell_type": "code",
   "execution_count": null,
   "id": "c7109a85-d901-4884-8301-0c506e49c881",
   "metadata": {},
   "outputs": [],
   "source": []
  }
 ],
 "metadata": {
  "kernelspec": {
   "display_name": "Python 3 (ipykernel)",
   "language": "python",
   "name": "python3"
  },
  "language_info": {
   "codemirror_mode": {
    "name": "ipython",
    "version": 3
   },
   "file_extension": ".py",
   "mimetype": "text/x-python",
   "name": "python",
   "nbconvert_exporter": "python",
   "pygments_lexer": "ipython3",
   "version": "3.12.2"
  }
 },
 "nbformat": 4,
 "nbformat_minor": 5
}
